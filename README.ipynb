{
 "cells": [
  {
   "cell_type": "markdown",
   "metadata": {},
   "source": [
    "# RemotePostgres"
   ]
  },
  {
   "cell_type": "markdown",
   "metadata": {},
   "source": [
    "RemotePostgres is a way to easily access a remote Postgres database and perform queries, including SELECT and INSERT operations\n",
    "\n",
    "See below for examples of how to use"
   ]
  },
  {
   "cell_type": "code",
   "execution_count": 1,
   "metadata": {},
   "outputs": [],
   "source": [
    "from remote_postgres import RemotePostgres\n",
    "import mysecrets\n",
    "db = RemotePostgres(f'postgres://{mysecrets.pg_user}:{mysecrets.pg_password}@{mysecrets.pg_host}:{mysecrets.pg_port}/{mysecrets.pg_database}')"
   ]
  },
  {
   "cell_type": "code",
   "execution_count": 2,
   "metadata": {},
   "outputs": [
    {
     "data": {
      "text/plain": [
       "[{'tmp_1347844423': 0}, {'Employee': 0}, {'tmp_1170648801': 0}]"
      ]
     },
     "execution_count": 2,
     "metadata": {},
     "output_type": "execute_result"
    }
   ],
   "source": [
    "db.get_counts()"
   ]
  },
  {
   "cell_type": "code",
   "execution_count": 3,
   "metadata": {},
   "outputs": [],
   "source": [
    "db.con.cursor().execute(\"\"\"CREATE TABLE \"Shipper\" (\"Id\" INTEGER, \"CompanyName\" TEXT, \"Phone\" TEXT)  \"\"\")"
   ]
  },
  {
   "cell_type": "code",
   "execution_count": 4,
   "metadata": {},
   "outputs": [],
   "source": [
    "new_records = [{'Id': 1, 'CompanyName': 'Speedy Express', 'Phone': '(503) 555-9831'},\n",
    " {'Id': 2, 'CompanyName': 'United Package', 'Phone': '(503) 555-3199'},\n",
    " {'Id': 3, 'CompanyName': 'Federal Shipping', 'Phone': '(503) 555-9931'},\n",
    " {'Id': 4, 'CompanyName': 'Speedy Express', 'Phone': '(503) 555-9831'},\n",
    " {'Id': 5, 'CompanyName': 'United Package', 'Phone': '(503) 555-3199'},\n",
    " {'Id': 6, 'CompanyName': 'Federal Shipping', 'Phone': '(503) 555-9931'}]"
   ]
  },
  {
   "cell_type": "code",
   "execution_count": 5,
   "metadata": {},
   "outputs": [],
   "source": [
    "db.insert('Shipper', new_records)"
   ]
  },
  {
   "cell_type": "code",
   "execution_count": 6,
   "metadata": {},
   "outputs": [
    {
     "data": {
      "text/plain": [
       "[{'Id': 1, 'CompanyName': 'Speedy Express', 'Phone': '(503) 555-9831'},\n",
       " {'Id': 2, 'CompanyName': 'United Package', 'Phone': '(503) 555-3199'},\n",
       " {'Id': 3, 'CompanyName': 'Federal Shipping', 'Phone': '(503) 555-9931'},\n",
       " {'Id': 4, 'CompanyName': 'Speedy Express', 'Phone': '(503) 555-9831'},\n",
       " {'Id': 5, 'CompanyName': 'United Package', 'Phone': '(503) 555-3199'},\n",
       " {'Id': 6, 'CompanyName': 'Federal Shipping', 'Phone': '(503) 555-9931'}]"
      ]
     },
     "execution_count": 6,
     "metadata": {},
     "output_type": "execute_result"
    }
   ],
   "source": [
    "db.select('SELECT * FROM \"Shipper\"')"
   ]
  },
  {
   "cell_type": "code",
   "execution_count": 7,
   "metadata": {},
   "outputs": [],
   "source": [
    "cur = db.con.cursor()\n",
    "cur.execute(\"\"\"DELETE FROM \"Shipper\" WHERE \"Id\" > 3\"\"\")\n",
    "db.con.commit()"
   ]
  },
  {
   "cell_type": "code",
   "execution_count": 8,
   "metadata": {},
   "outputs": [
    {
     "data": {
      "text/plain": [
       "'CREATE TABLE \"Shipper\" (\"Id\" TEXT, \"CompanyName\" TEXT, \"Phone\" TEXT)'"
      ]
     },
     "execution_count": 8,
     "metadata": {},
     "output_type": "execute_result"
    }
   ],
   "source": [
    "db.generate_create_table('Shipper', new_records)"
   ]
  },
  {
   "cell_type": "code",
   "execution_count": 9,
   "metadata": {},
   "outputs": [],
   "source": [
    "db.con.cursor().execute(\"\"\"DROP TABLE \"Shipper\" \"\"\")\n",
    "db.con.commit()"
   ]
  },
  {
   "cell_type": "code",
   "execution_count": 10,
   "metadata": {},
   "outputs": [],
   "source": [
    "del db    # Close the connection"
   ]
  }
 ],
 "metadata": {
  "kernelspec": {
   "display_name": "Python 3",
   "language": "python",
   "name": "python3"
  },
  "language_info": {
   "codemirror_mode": {
    "name": "ipython",
    "version": 3
   },
   "file_extension": ".py",
   "mimetype": "text/x-python",
   "name": "python",
   "nbconvert_exporter": "python",
   "pygments_lexer": "ipython3",
   "version": "3.7.1"
  }
 },
 "nbformat": 4,
 "nbformat_minor": 2
}
